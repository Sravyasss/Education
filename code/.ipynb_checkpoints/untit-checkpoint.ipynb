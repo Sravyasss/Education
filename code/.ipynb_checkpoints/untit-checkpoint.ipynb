{
 "cells": [
  {
   "cell_type": "code",
   "execution_count": 1,
   "id": "651154db",
   "metadata": {},
   "outputs": [],
   "source": [
    "import pandas as pd\n",
    "import numpy as np\n",
    "import matplotlib.pyplot as plt\n",
    "import seaborn as sns\n",
    "sns.set_style(\"whitegrid\")"
   ]
  },
  {
   "cell_type": "markdown",
   "id": "00017561",
   "metadata": {},
   "source": [
    "The libraries were sucessfully imported, which ensures that i have the required tools to perform data cleaning, analyzing, manipulation and visualization."
   ]
  },
  {
   "cell_type": "markdown",
   "id": "449e70f8",
   "metadata": {},
   "source": [
    "In this step, I load the datasets of both files using pandas, Here pandas provide us with the read.csv() function which allow us to import the csv files."
   ]
  },
  {
   "cell_type": "code",
   "execution_count": 2,
   "id": "1dbd01b2",
   "metadata": {
    "scrolled": true
   },
   "outputs": [
    {
     "name": "stderr",
     "output_type": "stream",
     "text": [
      "C:\\Users\\SRAVYASRI\\anaconda3\\lib\\site-packages\\openpyxl\\worksheet\\_reader.py:312: UserWarning: Unknown extension is not supported and will be removed\n",
      "  warn(msg)\n"
     ]
    }
   ],
   "source": [
    "edgap = pd.read_excel(\n",
    "    \"C:/Users/SRAVYASRI/Downloads/DATA 5100_Foundations of data science/Education/data/EdGap_data.xlsx\",\n",
    "    dtype={'NCESSCH School ID': object}\n",
    ")"
   ]
  },
  {
   "cell_type": "code",
   "execution_count": 3,
   "id": "663b657f",
   "metadata": {},
   "outputs": [],
   "source": [
    "School_information = pd.read_csv(\"https://www.dropbox.com/s/lkl5nvcdmwyoban/ccd_sch_029_1617_w_1a_11212017.csv?dl=1\", encoding='unicode_escape',low_memory= False)"
   ]
  },
  {
   "cell_type": "markdown",
   "id": "7ea12905",
   "metadata": {},
   "source": [
    "Both files load without errors. The School_information file uses a special encoding because it has a lot of text, and its size is handled by setting low_memory=False."
   ]
  },
  {
   "cell_type": "code",
   "execution_count": 4,
   "id": "064c1657",
   "metadata": {},
   "outputs": [],
   "source": [
    "pd.set_option('display.max_columns', None)"
   ]
  },
  {
   "cell_type": "code",
   "execution_count": 5,
   "id": "fdcc18d3",
   "metadata": {
    "scrolled": true
   },
   "outputs": [],
   "source": [
    "Scl_expenditures = pd.read_csv(\n",
    "    \"C:/Users/SRAVYASRI/Documents/Data_5100/SCH/CRDC/CSV/School Expenditures.csv\",encoding='unicode_escape',low_memory= False\n",
    ")"
   ]
  },
  {
   "cell_type": "code",
   "execution_count": 6,
   "id": "79df1731",
   "metadata": {
    "scrolled": true
   },
   "outputs": [],
   "source": [
    "support_scl = pd.read_csv(\n",
    "    \"C:/Users/SRAVYASRI/Documents/Data_5100/SCH/CRDC/CSV/School Support.csv\",encoding='unicode_escape',low_memory= False\n",
    ")"
   ]
  },
  {
   "cell_type": "markdown",
   "id": "8a161849",
   "metadata": {},
   "source": [
    "Here we are exploring the dataset with head, This function gives the number of columns to getan overview about what were present in the dataset."
   ]
  },
  {
   "cell_type": "markdown",
   "id": "b7031c49",
   "metadata": {},
   "source": [
    "Here we can see what was present in the dataset, when we just give head() function, it defaults to displaying the first 5 observations as we can see the school id, unemployment rate, ACT scores, and the school level, zipcode and so on."
   ]
  },
  {
   "cell_type": "markdown",
   "id": "83c7844b",
   "metadata": {},
   "source": [
    "Here the display max columsn shows all the columns present in the data rather than show dots."
   ]
  },
  {
   "cell_type": "markdown",
   "id": "7bc2e461",
   "metadata": {},
   "source": [
    "Here we can clearly see all the columns that were present in the School_information dataframe."
   ]
  },
  {
   "cell_type": "markdown",
   "id": "a28d3cd7",
   "metadata": {},
   "source": [
    "Here the info() function gives the information such as column names, datatypes, memory usage and the information about NAN(Not a number) values."
   ]
  },
  {
   "cell_type": "markdown",
   "id": "98808e56",
   "metadata": {},
   "source": [
    "Here we can observe that the School_information dataframe is larger than the edgap dataframe, and the memory usage for School_information is also more."
   ]
  },
  {
   "cell_type": "markdown",
   "id": "7be13001",
   "metadata": {},
   "source": [
    "Here we check for the columns in each dataset, Here the column attribute give the names of all the columns that were present in the dataset."
   ]
  },
  {
   "cell_type": "code",
   "execution_count": 7,
   "id": "5de33aef",
   "metadata": {},
   "outputs": [],
   "source": [
    "School_information=School_information[['SCHOOL_YEAR','NCESSCH', 'LSTATE', 'LZIP','SCH_TYPE_TEXT', 'LEVEL','CHARTER_TEXT']]"
   ]
  },
  {
   "cell_type": "code",
   "execution_count": 8,
   "id": "eb9a35bf",
   "metadata": {},
   "outputs": [],
   "source": [
    "edgap = edgap.rename(\n",
    "    columns={\n",
    "        \"NCESSCH School ID\": \"id\",\n",
    "        \"CT Pct Adults with College Degree\": \"percent_college\",\n",
    "        \"CT Unemployment Rate\": \"rate_unemployment\",\n",
    "        \"CT Pct Childre In Married Couple Family\": \"percent_married\",\n",
    "        \"CT Median Household Income\": \"median_income\",\n",
    "        \"School ACT average (or equivalent if SAT score)\": \"average_act\",\n",
    "        \"School Pct Free and Reduced Lunch\": \"percent_lunch\"\n",
    "    }\n",
    ")"
   ]
  },
  {
   "cell_type": "code",
   "execution_count": 9,
   "id": "66a5a889",
   "metadata": {
    "scrolled": true
   },
   "outputs": [],
   "source": [
    "School_information = School_information.rename(\n",
    "    columns={\n",
    "        \"SCHOOL_YEAR\": \"year\",\n",
    "        \"NCESSCH\": \"id\",\n",
    "        \"LSTATE\": \"state\",\n",
    "        \"LZIP\": \"zip_code\",\n",
    "        \"SCH_TYPE_TEXT\": \"school_type\",\n",
    "        \"LEVEL\": \"school_level\",\n",
    "        \"CHARTER_TEXT\": \"charter\"\n",
    "    }\n",
    ")"
   ]
  },
  {
   "cell_type": "code",
   "execution_count": 11,
   "id": "d0332ebb",
   "metadata": {
    "scrolled": true
   },
   "outputs": [
    {
     "data": {
      "text/plain": [
       "Index(['LEA_STATE', 'LEA_STATE_NAME', 'LEAID', 'LEA_NAME', 'SCHID', 'SCH_NAME',\n",
       "       'COMBOKEY', 'JJ', 'SCH_SAL_TOTPERS_WOFED', 'SCH_FTE_TEACH_WOFED',\n",
       "       'SCH_SAL_TEACH_WOFED', 'SCH_NPE_WOFED', 'SCH_FTE_AID_WOFED',\n",
       "       'SCH_SAL_AID_WOFED', 'SCH_FTE_SUP_WOFED', 'SCH_SAL_SUP_WOFED',\n",
       "       'SCH_FTE_ADM_WOFED', 'SCH_SAL_ADM_WOFED', 'SCH_SAL_TEACH_WFED',\n",
       "       'SCH_FTE_AID_WFED', 'SCH_SAL_AID_WFED', 'SCH_FTE_SUP_WFED',\n",
       "       'SCH_SAL_SUP_WFED', 'SCH_FTE_ADM_WFED', 'SCH_SAL_ADM_WFED',\n",
       "       'SCH_SAL_TOTPERS_WFED', 'SCH_NPE_WFED'],\n",
       "      dtype='object')"
      ]
     },
     "execution_count": 11,
     "metadata": {},
     "output_type": "execute_result"
    }
   ],
   "source": [
    "Scl_expenditures.columns\n"
   ]
  },
  {
   "cell_type": "code",
   "execution_count": 12,
   "id": "5f9e9c8b",
   "metadata": {},
   "outputs": [],
   "source": [
    "Scl_expenditures=Scl_expenditures[['COMBOKEY','SCHID','SCH_NAME','SCH_SAL_TOTPERS_WOFED','SCH_NPE_WOFED','SCH_SAL_TOTPERS_WFED']]"
   ]
  },
  {
   "cell_type": "code",
   "execution_count": 13,
   "id": "5da54dcf",
   "metadata": {},
   "outputs": [],
   "source": [
    "Scl_expenditures = Scl_expenditures.rename(\n",
    "    columns={\n",
    "    'COMBOKEY':'id',\n",
    "    'SCHID':'school_code',\n",
    "    'SCH_NAME':'school name',\n",
    "   'SCH_SAL_TOTPERS_WOFED':'Tot_salary_exp',\n",
    "    'SCH_NPE_WOFED':'Non_personal_exp', \n",
    "    'SCH_SAL_TOTPERS_WFED': 'Tot_salary_exp_federal'})\n"
   ]
  },
  {
   "cell_type": "code",
   "execution_count": 18,
   "id": "ecfe2e9f",
   "metadata": {},
   "outputs": [],
   "source": [
    "support_scl.columns\n",
    "support_scl=support_scl[['COMBOKEY','SCH_FTETEACH_TOT']]\n"
   ]
  },
  {
   "cell_type": "code",
   "execution_count": 20,
   "id": "b0995e48",
   "metadata": {},
   "outputs": [
    {
     "data": {
      "text/html": [
       "<div>\n",
       "<style scoped>\n",
       "    .dataframe tbody tr th:only-of-type {\n",
       "        vertical-align: middle;\n",
       "    }\n",
       "\n",
       "    .dataframe tbody tr th {\n",
       "        vertical-align: top;\n",
       "    }\n",
       "\n",
       "    .dataframe thead th {\n",
       "        text-align: right;\n",
       "    }\n",
       "</style>\n",
       "<table border=\"1\" class=\"dataframe\">\n",
       "  <thead>\n",
       "    <tr style=\"text-align: right;\">\n",
       "      <th></th>\n",
       "      <th>id</th>\n",
       "      <th>Tot_FTE_teachers</th>\n",
       "    </tr>\n",
       "  </thead>\n",
       "  <tbody>\n",
       "    <tr>\n",
       "      <th>0</th>\n",
       "      <td>010000201705</td>\n",
       "      <td>25.0</td>\n",
       "    </tr>\n",
       "    <tr>\n",
       "      <th>1</th>\n",
       "      <td>010000201706</td>\n",
       "      <td>16.0</td>\n",
       "    </tr>\n",
       "    <tr>\n",
       "      <th>2</th>\n",
       "      <td>010000201876</td>\n",
       "      <td>11.0</td>\n",
       "    </tr>\n",
       "  </tbody>\n",
       "</table>\n",
       "</div>"
      ],
      "text/plain": [
       "             id  Tot_FTE_teachers\n",
       "0  010000201705              25.0\n",
       "1  010000201706              16.0\n",
       "2  010000201876              11.0"
      ]
     },
     "execution_count": 20,
     "metadata": {},
     "output_type": "execute_result"
    }
   ],
   "source": [
    "support_scl = support_scl.rename(\n",
    "    columns={\n",
    "        'SCH_FTETEACH_TOT':'Tot_FTE_teachers',\n",
    "        'COMBOKEY': 'id'})\n"
   ]
  },
  {
   "cell_type": "code",
   "execution_count": 46,
   "id": "2fa05e92",
   "metadata": {},
   "outputs": [],
   "source": [
    "\n",
    "School_information['id']=School_information['id'].astype(str).str.replace(r'^\\.0', '', regex=True)"
   ]
  },
  {
   "cell_type": "code",
   "execution_count": 47,
   "id": "57d150a4",
   "metadata": {},
   "outputs": [
    {
     "data": {
      "text/html": [
       "<div>\n",
       "<style scoped>\n",
       "    .dataframe tbody tr th:only-of-type {\n",
       "        vertical-align: middle;\n",
       "    }\n",
       "\n",
       "    .dataframe tbody tr th {\n",
       "        vertical-align: top;\n",
       "    }\n",
       "\n",
       "    .dataframe thead th {\n",
       "        text-align: right;\n",
       "    }\n",
       "</style>\n",
       "<table border=\"1\" class=\"dataframe\">\n",
       "  <thead>\n",
       "    <tr style=\"text-align: right;\">\n",
       "      <th></th>\n",
       "      <th>id</th>\n",
       "      <th>rate_unemployment</th>\n",
       "      <th>percent_college</th>\n",
       "      <th>percent_married</th>\n",
       "      <th>median_income</th>\n",
       "      <th>average_act</th>\n",
       "      <th>percent_lunch</th>\n",
       "    </tr>\n",
       "  </thead>\n",
       "  <tbody>\n",
       "    <tr>\n",
       "      <th>0</th>\n",
       "      <td>100001600143</td>\n",
       "      <td>0.117962</td>\n",
       "      <td>0.445283</td>\n",
       "      <td>0.346495</td>\n",
       "      <td>42820.0</td>\n",
       "      <td>20.433455</td>\n",
       "      <td>0.066901</td>\n",
       "    </tr>\n",
       "    <tr>\n",
       "      <th>1</th>\n",
       "      <td>100008000024</td>\n",
       "      <td>0.063984</td>\n",
       "      <td>0.662765</td>\n",
       "      <td>0.767619</td>\n",
       "      <td>89320.0</td>\n",
       "      <td>19.498168</td>\n",
       "      <td>0.112412</td>\n",
       "    </tr>\n",
       "    <tr>\n",
       "      <th>2</th>\n",
       "      <td>100008000225</td>\n",
       "      <td>0.056460</td>\n",
       "      <td>0.701864</td>\n",
       "      <td>0.713090</td>\n",
       "      <td>84140.0</td>\n",
       "      <td>19.554335</td>\n",
       "      <td>0.096816</td>\n",
       "    </tr>\n",
       "    <tr>\n",
       "      <th>3</th>\n",
       "      <td>100017000029</td>\n",
       "      <td>0.044739</td>\n",
       "      <td>0.692062</td>\n",
       "      <td>0.641283</td>\n",
       "      <td>56500.0</td>\n",
       "      <td>17.737485</td>\n",
       "      <td>0.296960</td>\n",
       "    </tr>\n",
       "    <tr>\n",
       "      <th>4</th>\n",
       "      <td>100018000040</td>\n",
       "      <td>0.077014</td>\n",
       "      <td>0.640060</td>\n",
       "      <td>0.834402</td>\n",
       "      <td>54015.0</td>\n",
       "      <td>18.245421</td>\n",
       "      <td>0.262641</td>\n",
       "    </tr>\n",
       "  </tbody>\n",
       "</table>\n",
       "</div>"
      ],
      "text/plain": [
       "             id  rate_unemployment  percent_college  percent_married  \\\n",
       "0  100001600143           0.117962         0.445283         0.346495   \n",
       "1  100008000024           0.063984         0.662765         0.767619   \n",
       "2  100008000225           0.056460         0.701864         0.713090   \n",
       "3  100017000029           0.044739         0.692062         0.641283   \n",
       "4  100018000040           0.077014         0.640060         0.834402   \n",
       "\n",
       "   median_income  average_act  percent_lunch  \n",
       "0        42820.0    20.433455       0.066901  \n",
       "1        89320.0    19.498168       0.112412  \n",
       "2        84140.0    19.554335       0.096816  \n",
       "3        56500.0    17.737485       0.296960  \n",
       "4        54015.0    18.245421       0.262641  "
      ]
     },
     "execution_count": 47,
     "metadata": {},
     "output_type": "execute_result"
    }
   ],
   "source": [
    "edgap.head()\n"
   ]
  },
  {
   "cell_type": "code",
   "execution_count": 48,
   "id": "763f3bf0",
   "metadata": {},
   "outputs": [
    {
     "data": {
      "text/plain": [
       "<bound method DataFrame.info of              year              id state zip_code         school_type  \\\n",
       "0       2016-2017   10000200277.0    AL    35220  Alternative School   \n",
       "1       2016-2017   10000201667.0    AL    36067  Alternative School   \n",
       "2       2016-2017   10000201670.0    AL    36784  Alternative School   \n",
       "3       2016-2017   10000201705.0    AL    36057  Alternative School   \n",
       "4       2016-2017   10000201706.0    AL    35206  Alternative School   \n",
       "...           ...             ...   ...      ...                 ...   \n",
       "102178  2016-2017  780003000025.0    VI    00802      Regular School   \n",
       "102179  2016-2017  780003000026.0    VI    00802      Regular School   \n",
       "102180  2016-2017  780003000027.0    VI    00802      Regular School   \n",
       "102181  2016-2017  780003000033.0    VI    00804      Regular School   \n",
       "102182  2016-2017  780003000034.0    VI    00802      Regular School   \n",
       "\n",
       "       school_level         charter  \n",
       "0              High              No  \n",
       "1              High              No  \n",
       "2              High              No  \n",
       "3              High              No  \n",
       "4              High              No  \n",
       "...             ...             ...  \n",
       "102178   Elementary  Not applicable  \n",
       "102179   Elementary  Not applicable  \n",
       "102180   Elementary  Not applicable  \n",
       "102181       Middle  Not applicable  \n",
       "102182       Middle  Not applicable  \n",
       "\n",
       "[102183 rows x 7 columns]>"
      ]
     },
     "execution_count": 48,
     "metadata": {},
     "output_type": "execute_result"
    }
   ],
   "source": [
    "\n",
    "School_information.info"
   ]
  },
  {
   "cell_type": "code",
   "execution_count": 28,
   "id": "fe2ffe9d",
   "metadata": {},
   "outputs": [],
   "source": [
    "support_scl['id']=support_scl['id'].str.lstrip('0')\n",
    "Scl_expenditures['id']=Scl_expenditures['id'].str.lstrip('0')"
   ]
  },
  {
   "cell_type": "code",
   "execution_count": 29,
   "id": "fa4342de",
   "metadata": {},
   "outputs": [
    {
     "data": {
      "text/html": [
       "<div>\n",
       "<style scoped>\n",
       "    .dataframe tbody tr th:only-of-type {\n",
       "        vertical-align: middle;\n",
       "    }\n",
       "\n",
       "    .dataframe tbody tr th {\n",
       "        vertical-align: top;\n",
       "    }\n",
       "\n",
       "    .dataframe thead th {\n",
       "        text-align: right;\n",
       "    }\n",
       "</style>\n",
       "<table border=\"1\" class=\"dataframe\">\n",
       "  <thead>\n",
       "    <tr style=\"text-align: right;\">\n",
       "      <th></th>\n",
       "      <th>id</th>\n",
       "      <th>school_code</th>\n",
       "      <th>school name</th>\n",
       "      <th>Tot_salary_exp</th>\n",
       "      <th>Non_personal_exp</th>\n",
       "      <th>Tot_salary_exp_federal</th>\n",
       "    </tr>\n",
       "  </thead>\n",
       "  <tbody>\n",
       "    <tr>\n",
       "      <th>0</th>\n",
       "      <td>10000201705</td>\n",
       "      <td>1705</td>\n",
       "      <td>Wallace Sch - Mt Meigs Campus</td>\n",
       "      <td>1908676.0</td>\n",
       "      <td>102500.00</td>\n",
       "      <td>1908676.00</td>\n",
       "    </tr>\n",
       "    <tr>\n",
       "      <th>1</th>\n",
       "      <td>10000201706</td>\n",
       "      <td>1706</td>\n",
       "      <td>McNeel Sch - Vacca Campus</td>\n",
       "      <td>1563570.0</td>\n",
       "      <td>30502.00</td>\n",
       "      <td>1305463.00</td>\n",
       "    </tr>\n",
       "    <tr>\n",
       "      <th>2</th>\n",
       "      <td>10000201876</td>\n",
       "      <td>1876</td>\n",
       "      <td>Alabama Youth Services</td>\n",
       "      <td>3998276.0</td>\n",
       "      <td>341426.00</td>\n",
       "      <td>5122976.00</td>\n",
       "    </tr>\n",
       "    <tr>\n",
       "      <th>3</th>\n",
       "      <td>10000299995</td>\n",
       "      <td>99995</td>\n",
       "      <td>AUTAUGA CAMPUS</td>\n",
       "      <td>305220.0</td>\n",
       "      <td>18700.00</td>\n",
       "      <td>386551.00</td>\n",
       "    </tr>\n",
       "    <tr>\n",
       "      <th>4</th>\n",
       "      <td>10000500870</td>\n",
       "      <td>870</td>\n",
       "      <td>Albertville Middle School</td>\n",
       "      <td>2394774.5</td>\n",
       "      <td>566767.07</td>\n",
       "      <td>2782657.92</td>\n",
       "    </tr>\n",
       "  </tbody>\n",
       "</table>\n",
       "</div>"
      ],
      "text/plain": [
       "            id  school_code                    school name  Tot_salary_exp  \\\n",
       "0  10000201705         1705  Wallace Sch - Mt Meigs Campus       1908676.0   \n",
       "1  10000201706         1706      McNeel Sch - Vacca Campus       1563570.0   \n",
       "2  10000201876         1876         Alabama Youth Services       3998276.0   \n",
       "3  10000299995        99995                 AUTAUGA CAMPUS        305220.0   \n",
       "4  10000500870          870      Albertville Middle School       2394774.5   \n",
       "\n",
       "   Non_personal_exp  Tot_salary_exp_federal  \n",
       "0         102500.00              1908676.00  \n",
       "1          30502.00              1305463.00  \n",
       "2         341426.00              5122976.00  \n",
       "3          18700.00               386551.00  \n",
       "4         566767.07              2782657.92  "
      ]
     },
     "execution_count": 29,
     "metadata": {},
     "output_type": "execute_result"
    }
   ],
   "source": [
    "\n",
    "Scl_expenditures.head()"
   ]
  },
  {
   "cell_type": "code",
   "execution_count": 30,
   "id": "286066ee",
   "metadata": {},
   "outputs": [
    {
     "data": {
      "text/html": [
       "<div>\n",
       "<style scoped>\n",
       "    .dataframe tbody tr th:only-of-type {\n",
       "        vertical-align: middle;\n",
       "    }\n",
       "\n",
       "    .dataframe tbody tr th {\n",
       "        vertical-align: top;\n",
       "    }\n",
       "\n",
       "    .dataframe thead th {\n",
       "        text-align: right;\n",
       "    }\n",
       "</style>\n",
       "<table border=\"1\" class=\"dataframe\">\n",
       "  <thead>\n",
       "    <tr style=\"text-align: right;\">\n",
       "      <th></th>\n",
       "      <th>id</th>\n",
       "      <th>Tot_FTE_teachers</th>\n",
       "    </tr>\n",
       "  </thead>\n",
       "  <tbody>\n",
       "    <tr>\n",
       "      <th>0</th>\n",
       "      <td>10000201705</td>\n",
       "      <td>25.00</td>\n",
       "    </tr>\n",
       "    <tr>\n",
       "      <th>1</th>\n",
       "      <td>10000201706</td>\n",
       "      <td>16.00</td>\n",
       "    </tr>\n",
       "    <tr>\n",
       "      <th>2</th>\n",
       "      <td>10000201876</td>\n",
       "      <td>11.00</td>\n",
       "    </tr>\n",
       "    <tr>\n",
       "      <th>3</th>\n",
       "      <td>10000299995</td>\n",
       "      <td>3.00</td>\n",
       "    </tr>\n",
       "    <tr>\n",
       "      <th>4</th>\n",
       "      <td>10000500870</td>\n",
       "      <td>39.29</td>\n",
       "    </tr>\n",
       "  </tbody>\n",
       "</table>\n",
       "</div>"
      ],
      "text/plain": [
       "            id  Tot_FTE_teachers\n",
       "0  10000201705             25.00\n",
       "1  10000201706             16.00\n",
       "2  10000201876             11.00\n",
       "3  10000299995              3.00\n",
       "4  10000500870             39.29"
      ]
     },
     "execution_count": 30,
     "metadata": {},
     "output_type": "execute_result"
    }
   ],
   "source": [
    "support_scl.head()"
   ]
  },
  {
   "cell_type": "code",
   "execution_count": 41,
   "id": "b6a2800f",
   "metadata": {},
   "outputs": [],
   "source": [
    "df=School_information.merge(\n",
    "    support_scl,\n",
    "    how='left',\n",
    "    on='id'\n",
    "    )"
   ]
  },
  {
   "cell_type": "code",
   "execution_count": 42,
   "id": "203506d6",
   "metadata": {},
   "outputs": [
    {
     "data": {
      "text/html": [
       "<div>\n",
       "<style scoped>\n",
       "    .dataframe tbody tr th:only-of-type {\n",
       "        vertical-align: middle;\n",
       "    }\n",
       "\n",
       "    .dataframe tbody tr th {\n",
       "        vertical-align: top;\n",
       "    }\n",
       "\n",
       "    .dataframe thead th {\n",
       "        text-align: right;\n",
       "    }\n",
       "</style>\n",
       "<table border=\"1\" class=\"dataframe\">\n",
       "  <thead>\n",
       "    <tr style=\"text-align: right;\">\n",
       "      <th></th>\n",
       "      <th>year</th>\n",
       "      <th>id</th>\n",
       "      <th>state</th>\n",
       "      <th>zip_code</th>\n",
       "      <th>school_type</th>\n",
       "      <th>school_level</th>\n",
       "      <th>charter</th>\n",
       "      <th>Tot_FTE_teachers</th>\n",
       "    </tr>\n",
       "  </thead>\n",
       "  <tbody>\n",
       "    <tr>\n",
       "      <th>0</th>\n",
       "      <td>2016-2017</td>\n",
       "      <td>10000200277.0</td>\n",
       "      <td>AL</td>\n",
       "      <td>35220</td>\n",
       "      <td>Alternative School</td>\n",
       "      <td>High</td>\n",
       "      <td>No</td>\n",
       "      <td>NaN</td>\n",
       "    </tr>\n",
       "    <tr>\n",
       "      <th>1</th>\n",
       "      <td>2016-2017</td>\n",
       "      <td>10000201667.0</td>\n",
       "      <td>AL</td>\n",
       "      <td>36067</td>\n",
       "      <td>Alternative School</td>\n",
       "      <td>High</td>\n",
       "      <td>No</td>\n",
       "      <td>NaN</td>\n",
       "    </tr>\n",
       "    <tr>\n",
       "      <th>2</th>\n",
       "      <td>2016-2017</td>\n",
       "      <td>10000201670.0</td>\n",
       "      <td>AL</td>\n",
       "      <td>36784</td>\n",
       "      <td>Alternative School</td>\n",
       "      <td>High</td>\n",
       "      <td>No</td>\n",
       "      <td>NaN</td>\n",
       "    </tr>\n",
       "    <tr>\n",
       "      <th>3</th>\n",
       "      <td>2016-2017</td>\n",
       "      <td>10000201705.0</td>\n",
       "      <td>AL</td>\n",
       "      <td>36057</td>\n",
       "      <td>Alternative School</td>\n",
       "      <td>High</td>\n",
       "      <td>No</td>\n",
       "      <td>NaN</td>\n",
       "    </tr>\n",
       "    <tr>\n",
       "      <th>4</th>\n",
       "      <td>2016-2017</td>\n",
       "      <td>10000201706.0</td>\n",
       "      <td>AL</td>\n",
       "      <td>35206</td>\n",
       "      <td>Alternative School</td>\n",
       "      <td>High</td>\n",
       "      <td>No</td>\n",
       "      <td>NaN</td>\n",
       "    </tr>\n",
       "  </tbody>\n",
       "</table>\n",
       "</div>"
      ],
      "text/plain": [
       "        year             id state zip_code         school_type school_level  \\\n",
       "0  2016-2017  10000200277.0    AL    35220  Alternative School         High   \n",
       "1  2016-2017  10000201667.0    AL    36067  Alternative School         High   \n",
       "2  2016-2017  10000201670.0    AL    36784  Alternative School         High   \n",
       "3  2016-2017  10000201705.0    AL    36057  Alternative School         High   \n",
       "4  2016-2017  10000201706.0    AL    35206  Alternative School         High   \n",
       "\n",
       "  charter  Tot_FTE_teachers  \n",
       "0      No               NaN  \n",
       "1      No               NaN  \n",
       "2      No               NaN  \n",
       "3      No               NaN  \n",
       "4      No               NaN  "
      ]
     },
     "execution_count": 42,
     "metadata": {},
     "output_type": "execute_result"
    }
   ],
   "source": [
    "df.head()"
   ]
  },
  {
   "cell_type": "code",
   "execution_count": 43,
   "id": "00ecfd32",
   "metadata": {},
   "outputs": [
    {
     "data": {
      "text/html": [
       "<div>\n",
       "<style scoped>\n",
       "    .dataframe tbody tr th:only-of-type {\n",
       "        vertical-align: middle;\n",
       "    }\n",
       "\n",
       "    .dataframe tbody tr th {\n",
       "        vertical-align: top;\n",
       "    }\n",
       "\n",
       "    .dataframe thead th {\n",
       "        text-align: right;\n",
       "    }\n",
       "</style>\n",
       "<table border=\"1\" class=\"dataframe\">\n",
       "  <thead>\n",
       "    <tr style=\"text-align: right;\">\n",
       "      <th></th>\n",
       "      <th>Number of Missing Values</th>\n",
       "    </tr>\n",
       "  </thead>\n",
       "  <tbody>\n",
       "    <tr>\n",
       "      <th>year</th>\n",
       "      <td>0</td>\n",
       "    </tr>\n",
       "    <tr>\n",
       "      <th>id</th>\n",
       "      <td>0</td>\n",
       "    </tr>\n",
       "    <tr>\n",
       "      <th>state</th>\n",
       "      <td>0</td>\n",
       "    </tr>\n",
       "    <tr>\n",
       "      <th>zip_code</th>\n",
       "      <td>0</td>\n",
       "    </tr>\n",
       "    <tr>\n",
       "      <th>school_type</th>\n",
       "      <td>2</td>\n",
       "    </tr>\n",
       "    <tr>\n",
       "      <th>school_level</th>\n",
       "      <td>4</td>\n",
       "    </tr>\n",
       "    <tr>\n",
       "      <th>charter</th>\n",
       "      <td>4</td>\n",
       "    </tr>\n",
       "    <tr>\n",
       "      <th>Tot_FTE_teachers</th>\n",
       "      <td>102183</td>\n",
       "    </tr>\n",
       "  </tbody>\n",
       "</table>\n",
       "</div>"
      ],
      "text/plain": [
       "                  Number of Missing Values\n",
       "year                                     0\n",
       "id                                       0\n",
       "state                                    0\n",
       "zip_code                                 0\n",
       "school_type                              2\n",
       "school_level                             4\n",
       "charter                                  4\n",
       "Tot_FTE_teachers                    102183"
      ]
     },
     "execution_count": 43,
     "metadata": {},
     "output_type": "execute_result"
    }
   ],
   "source": [
    "df.isna().sum().to_frame(name=\"Number of Missing Values\")"
   ]
  },
  {
   "cell_type": "code",
   "execution_count": null,
   "id": "96596dd1",
   "metadata": {},
   "outputs": [],
   "source": []
  }
 ],
 "metadata": {
  "kernelspec": {
   "display_name": "Python 3 (ipykernel)",
   "language": "python",
   "name": "python3"
  },
  "language_info": {
   "codemirror_mode": {
    "name": "ipython",
    "version": 3
   },
   "file_extension": ".py",
   "mimetype": "text/x-python",
   "name": "python",
   "nbconvert_exporter": "python",
   "pygments_lexer": "ipython3",
   "version": "3.9.7"
  }
 },
 "nbformat": 4,
 "nbformat_minor": 5
}
